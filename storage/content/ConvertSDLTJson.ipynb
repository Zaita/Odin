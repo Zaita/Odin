{
 "cells": [
  {
   "cell_type": "code",
   "execution_count": 8,
   "metadata": {},
   "outputs": [],
   "source": [
    "import json\n",
    "\n",
    "fileName = \"PCI_DSSAssessment\"\n",
    "\n",
    "with open(f\"tasks/Input.json\") as user_file:\n",
    "  fileContents = user_file.read()\n",
    "\n",
    "pairs = []\n",
    "pairs.append([ \"taskType\", \"type\"  ])\n",
    "pairs.append([ \"keyInformation\", \"key_information\"])\n",
    "pairs.append([ \"lockAnswersWhenComplete\", \"lock_when_complete\"] )\n",
    "pairs.append([ \"isApprovalRequired\", \"approval_required\"] )\n",
    "pairs.append([ \"riskCalculation\", \"risk_calculation\"] )\n",
    "pairs.append([ \"approvalGroupName\", \"approval_group\"] )\n",
    "pairs.append([ \"questionHeading\", \"heading\"] )\n",
    "pairs.append([ \"answerInputFields\", \"input_fields\"] )\n",
    "pairs.append([ \"inputType\", \"input_type\"] )\n",
    "pairs.append([ \"minLength\", \"min_length\"] )\n",
    "pairs.append([ \"maxLength\", \"max_length\"] )\n",
    "pairs.append([ \"placeHolder\", \"placeholder\"] )\n",
    "pairs.append([ \"isBusinessOwner\", \"business_owner\"] )\n",
    "pairs.append([ \"isProductName\", \"product_name\"] )\n",
    "pairs.append([ \"isReleaseDate\", \"release_date\"] )\n",
    "pairs.append([ \"isTicketLink\", \"ticket_url\"] )\n",
    "pairs.append([ \"answerActionFields\", \"action_fields\"] )\n",
    "pairs.append([\"actionType\", \"action_type\"])\n",
    "pairs.append([\"gotoQuestionTitle\", \"goto_question_title\"])\n",
    "pairs.append([\"NztaApproxRepresentation\", \"zaita_approx\"])\n",
    "\n",
    "for pair in pairs:\n",
    "  fileContents = fileContents.replace(pair[0], pair[1])  \n",
    "\n",
    "fileContents = fileContents.replace('        \"answerFieldType\": \"input\",\\n', '')  \n",
    "fileContents = fileContents.replace('        \"answerFieldType\": \"action\",\\n', '')\n",
    "fileContents = fileContents.replace('    \"approval_group\": \"\",\\n', '')\n",
    "\n",
    "newJson = json.loads(fileContents)\n",
    "with open(f\"tasks/{fileName}.json\", 'w') as f:\n",
    "    json.dump(newJson[\"task\"], f, indent=2)\n"
   ]
  }
 ],
 "metadata": {
  "kernelspec": {
   "display_name": "Python 3",
   "language": "python",
   "name": "python3"
  },
  "language_info": {
   "codemirror_mode": {
    "name": "ipython",
    "version": 3
   },
   "file_extension": ".py",
   "mimetype": "text/x-python",
   "name": "python",
   "nbconvert_exporter": "python",
   "pygments_lexer": "ipython3",
   "version": "3.11.3"
  }
 },
 "nbformat": 4,
 "nbformat_minor": 2
}
